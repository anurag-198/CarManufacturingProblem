{
 "cells": [
  {
   "cell_type": "code",
   "execution_count": 5,
   "metadata": {},
   "outputs": [
    {
     "data": {
      "text/html": [
       "        <script type=\"text/javascript\">\n",
       "        window.PlotlyConfig = {MathJaxConfig: 'local'};\n",
       "        if (window.MathJax) {MathJax.Hub.Config({SVG: {font: \"STIX-Web\"}});}\n",
       "        if (typeof require !== 'undefined') {\n",
       "        require.undef(\"plotly\");\n",
       "        requirejs.config({\n",
       "            paths: {\n",
       "                'plotly': ['https://cdn.plot.ly/plotly-latest.min']\n",
       "            }\n",
       "        });\n",
       "        require(['plotly'], function(Plotly) {\n",
       "            window._Plotly = Plotly;\n",
       "        });\n",
       "        }\n",
       "        </script>\n",
       "        "
      ]
     },
     "metadata": {},
     "output_type": "display_data"
    }
   ],
   "source": [
    "from torch import nn\n",
    "import torch\n",
    "import torch.nn.functional as F\n",
    "# Project specific inputs\n",
    "from environment import Environment\n",
    "from dgnAgent import Agent\n",
    "from trainer import Trainer\n",
    "import data_creator as dc\n",
    "import os\n",
    "import sys\n",
    "sys.path.append(\"..\")\n",
    "import matplotlib.pyplot as plt\n",
    "import numpy as np\n",
    "import plotly\n",
    "import plotly.graph_objects as go\n",
    "import plotly.express as px\n",
    "plotly.offline.init_notebook_mode(connected=True)\n",
    "from mcts import MCTS\n",
    "import functions as fc\n",
    "import operator\n",
    "import copy\n",
    "from graphics.displayer import Displayer\n",
    "from IPython.display import clear_output\n",
    "from IPython.display import display, Markdown, clear_output\n",
    "import ipywidgets as widgets\n",
    "from PIL import Image, ImageDraw, ImageFont\n",
    "import math\n",
    "from las import Look_ahead_search as Las\n",
    "import random\n",
    "from MultiAgentWrapper import MultiAgentWrapper as MAW\n",
    "from RandomPlayer import RandomPlayer as RP"
   ]
  },
  {
   "cell_type": "code",
   "execution_count": 8,
   "metadata": {},
   "outputs": [],
   "source": [
    "# Constants\n",
    "KIND_CARS = 8\n",
    "INPUT_SEQUENCE_LENGTH = 100\n",
    "INPUT_WINDOW = 3\n",
    "OUTPUT_SEQUENCE_LENGTH = 4\n",
    "NUM_LINES = 2\n",
    "CAPACITY_LINES = 3\n",
    "\n",
    "\n",
    "# Constants Agent\n",
    "BUFFER_SIZE = int(1e4)  # replay buffer size\n",
    "BATCH_SIZE = 64         # minibatch size\n",
    "GAMMA = 1          # discount factor\n",
    "TAU = 0.001#1e-3              # for soft update of target parameters\n",
    "LR = 5e-4               # learning rate\n",
    "UPDATE_EVERY = 4        # how often to update the network\n",
    "SEED = 0"
   ]
  },
  {
   "cell_type": "code",
   "execution_count": 9,
   "metadata": {},
   "outputs": [],
   "source": [
    "env = Environment(INPUT_SEQUENCE_LENGTH, KIND_CARS, NUM_LINES, CAPACITY_LINES, OUTPUT_SEQUENCE_LENGTH, INPUT_WINDOW)\n",
    "disp = Displayer(KIND_CARS)"
   ]
  },
  {
   "cell_type": "code",
   "execution_count": 10,
   "metadata": {},
   "outputs": [],
   "source": []
  },
  {
   "cell_type": "code",
   "execution_count": 19,
   "metadata": {},
   "outputs": [],
   "source": [
    "class Network(nn.Module):\n",
    "    def __init__(self, layer_numbers):\n",
    "        super().__init__()\n",
    "        self.fc1 = nn.Linear(layer_numbers[0], layer_numbers[1])\n",
    "        self.fc2 = nn.Linear(layer_numbers[1], layer_numbers[2])\n",
    "        self.fc3 = nn.Linear(layer_numbers[2], layer_numbers[3])\n",
    "#         self.fc4 = nn.Linear(layer_numbers[3], layer_numbers[4])\n",
    "#         self.fc5 = nn.Linear(layer_numbers[4], layer_numbers[5])\n",
    "#         self.fc6 = nn.Linear(layer_numbers[5], layer_numbers[6])\n",
    "\n",
    "\n",
    "    def forward(self, x):\n",
    "        x = self.fc1(x)\n",
    "        x = F.relu(x)\n",
    "        x = self.fc2(x)\n",
    "        x = F.relu(x)\n",
    "        x = self.fc3(x)\n",
    "#         x = F.relu(x)\n",
    "#         x = self.fc4(x)\n",
    "#         x = F.relu(x)\n",
    "#         x = self.fc5(x)\n",
    "#         x = F.relu(x)\n",
    "#         x = self.fc6(x)\n",
    "        return x\n",
    "\n",
    "\n",
    "layers = [(INPUT_WINDOW + OUTPUT_SEQUENCE_LENGTH+NUM_LINES*CAPACITY_LINES)*(KIND_CARS+1), 128, 128, NUM_LINES]\n",
    "net = Network(layers)\n",
    "pathname = fc.get_path()\n",
    "filename = '/results/I:3_O:4_N:117-128-128-2_NL:2_CL:3_W:100_KC:8/I:3_O:4_N:117-128-128-2_NL:2_CL:3_W:100_KC:8_0.pth'\n",
    "net.load_state_dict(torch.load(pathname + filename))\n",
    "net.eval()\n",
    "agent = Agent(net, BUFFER_SIZE, BATCH_SIZE, UPDATE_EVERY, GAMMA, TAU, LR, SEED)   \n",
    "wagent = fc.agent_wrapper(agent, KIND_CARS)"
   ]
  },
  {
   "cell_type": "code",
   "execution_count": 20,
   "metadata": {},
   "outputs": [],
   "source": [
    "rp = RP()\n",
    "maw = MAW(env, rp, wagent)\n",
    "\n"
   ]
  },
  {
   "cell_type": "code",
   "execution_count": 21,
   "metadata": {},
   "outputs": [
    {
     "data": {
      "text/plain": [
       "(-26.0, [7, 5, 0, 2, 3, 4, -1, -1, 2, 4, 5, 7, 6], True)"
      ]
     },
     "execution_count": 21,
     "metadata": {},
     "output_type": "execute_result"
    }
   ],
   "source": [
    "maw.reset()"
   ]
  },
  {
   "cell_type": "code",
   "execution_count": 22,
   "metadata": {},
   "outputs": [],
   "source": [
    "states, actions, rewards  = maw.get_all()"
   ]
  },
  {
   "cell_type": "code",
   "execution_count": 23,
   "metadata": {},
   "outputs": [],
   "source": [
    "last_in = -1\n",
    "last_out = -1\n",
    "ret = 0\n",
    "images = []\n",
    "for i, (state, action, reward) in enumerate(zip(states, actions, rewards)):\n",
    "    ret += reward\n",
    "    if i / 2 == 1:\n",
    "        # take out\n",
    "        last_out = action\n",
    "    else:\n",
    "        # take in\n",
    "        last_in = action\n",
    "    inp, buffer, out = state\n",
    "    img = disp.display(inp, buffer,out, last_line_in = last_in, last_line_out = last_out, reward = reward, ret = ret)\n",
    "    w,h = img.size\n",
    "    img = img.resize((math.ceil(w/2), math.ceil(h/2)))\n",
    "    images.append(img)"
   ]
  },
  {
   "cell_type": "code",
   "execution_count": 24,
   "metadata": {},
   "outputs": [
    {
     "data": {
      "image/png": "[encoded data removed]",
      "text/plain": [
       "<PIL.Image.Image image mode=RGBA size=350x690 at 0x7FCED2D40990>"
      ]
     },
     "metadata": {},
     "output_type": "display_data"
    },
    {
     "data": {
      "application/vnd.jupyter.widget-view+json": {
       "model_id": "aa60b74b3e7c4eb09736375a86ae0ed1",
       "version_major": 2,
       "version_minor": 0
      },
      "text/plain": [
       "HBox(children=(Button(description='<', style=ButtonStyle()), Button(description='>', style=ButtonStyle()), But…"
      ]
     },
     "metadata": {},
     "output_type": "display_data"
    }
   ],
   "source": [
    "c1 = widgets.Button(description='>')\n",
    "c2 = widgets.Button(description='<')\n",
    "c3 = widgets.Button(description='Goto step:')\n",
    "input_field = widgets.BoundedIntText(\n",
    "    value=0,\n",
    "    min=0,\n",
    "    max=len(images)-1,\n",
    "    step=1,\n",
    "    description='',\n",
    "    disabled=False\n",
    ")\n",
    "\n",
    "index = 0\n",
    "    \n",
    "def c1_clicked(_):\n",
    "    global index\n",
    "    clear_output(wait=True)\n",
    "    index = np.minimum(index+1, len(images)-1)\n",
    "    display(images[index])\n",
    "    display(vb)\n",
    "\n",
    "     \n",
    "def c2_clicked(_):\n",
    "    global index\n",
    "    clear_output(wait=True)\n",
    "    index = np.maximum(index-1, 0)\n",
    "    display(images[index])\n",
    "    display(vb)\n",
    "\n",
    "def c3_clicked(_):\n",
    "    global index\n",
    "    clear_output(wait=True)\n",
    "    index = input_field.value\n",
    "    display(images[index])\n",
    "    display(vb)\n",
    "\n",
    "\n",
    "\n",
    "    \n",
    "c1.on_click(c1_clicked)\n",
    "c2.on_click(c2_clicked)\n",
    "c3.on_click(c3_clicked)\n",
    "# c3.on_click(c3_clicked)\n",
    "\n",
    "\n",
    "   \n",
    "\n",
    "# vb = widgets.VBox([widgets.HBox([c1,c2, c3, c4, c5, c6, c7,  out]), c_new, out])\n",
    "vb = widgets.HBox([c2,c1,c3, input_field])\n",
    "display(images[0])\n",
    "display(vb)"
   ]
  },
  {
   "cell_type": "code",
   "execution_count": 18,
   "metadata": {},
   "outputs": [
    {
     "data": {
      "text/plain": [
       "(-5.0, [7, -1, 5, 2, -1, 2, 3, 1, 4, 2, 2], False)"
      ]
     },
     "execution_count": 18,
     "metadata": {},
     "output_type": "execute_result"
    }
   ],
   "source": [
    "maw.step(0)"
   ]
  },
  {
   "cell_type": "code",
   "execution_count": null,
   "metadata": {},
   "outputs": [],
   "source": [
    "env.reset()\n",
    "images = []\n",
    "action = -1\n",
    "reward = 0\n",
    "ret = 0\n",
    "\n",
    "done = False\n",
    "while not done:\n",
    "    ret += reward\n",
    "    inp, buffer, out = env.get_state(readable = True)\n",
    "    img = disp.display(inp, buffer,out, last_line_in = action, last_line_out = action, reward = reward, ret = ret)\n",
    "    w,h = img.size\n",
    "    img = img.resize((math.ceil(w/2), math.ceil(h/2)))\n",
    "    images.append(img)\n",
    "#     action = las.act(env)\n",
    "    action = random.choice(env.possible_actions())\n",
    "    reward, state, done = env.step(action)\n",
    "\n"
   ]
  },
  {
   "cell_type": "code",
   "execution_count": null,
   "metadata": {},
   "outputs": [],
   "source": [
    "las = Las()\n",
    "las.act(env)"
   ]
  },
  {
   "cell_type": "code",
   "execution_count": null,
   "metadata": {},
   "outputs": [],
   "source": [
    "env.reset()\n",
    "images = []\n",
    "action = -1\n",
    "reward = 0\n",
    "ret = 0\n",
    "\n",
    "done = False\n",
    "while not done:\n",
    "    ret += reward\n",
    "    inp, buffer, out = env.get_state(readable = True)\n",
    "    img = disp.display(inp, buffer,out, action, reward, ret)\n",
    "    w,h = img.size\n",
    "    img = img.resize((math.ceil(w/2), math.ceil(h/2)))\n",
    "    images.append(img)\n",
    "    action = las.act(env)\n",
    "#     action = np.random.randint(0, NUM_LINES)\n",
    "#     action = optimal(env)\n",
    "    reward, state, done = env.step(action)\n"
   ]
  },
  {
   "cell_type": "code",
   "execution_count": null,
   "metadata": {},
   "outputs": [],
   "source": []
  },
  {
   "cell_type": "code",
   "execution_count": null,
   "metadata": {},
   "outputs": [],
   "source": [
    "N = 1000\n",
    "L = 100\n",
    "test_sequences = dc.create_test_sequences('1000-100.test', N, L, KIND_CARS)\n",
    "# test_sequences = dc.load_test_sequences('1000-100')"
   ]
  },
  {
   "cell_type": "code",
   "execution_count": null,
   "metadata": {},
   "outputs": [],
   "source": []
  },
  {
   "cell_type": "code",
   "execution_count": null,
   "metadata": {},
   "outputs": [],
   "source": [
    "depth_results = []\n",
    "actions = []\n",
    "for i,test_sequence in enumerate(test_sequences):\n",
    "    ret = 0\n",
    "    current_actions = []\n",
    "    env = Environment(INPUT_SEQUENCE_LENGTH, KIND_CARS, NUM_LINES, CAPACITY_LINES, OUTPUT_SEQUENCE_LENGTH, INPUT_WINDOW)\n",
    "    state = env.reset()\n",
    "    done = False\n",
    "    while not done:\n",
    "        act = optimal(env)\n",
    "        current_actions.append(act)\n",
    "        reward, next_state, done = env.step(act)\n",
    "        ret += reward\n",
    "    actions.append(current_actions)\n",
    "    depth_results.append(ret)\n",
    "    print(str(i) + '/' +str(len(test_sequences)) + \" : \" + str(ret))\n",
    "    if i == 0:\n",
    "        break"
   ]
  },
  {
   "cell_type": "code",
   "execution_count": null,
   "metadata": {},
   "outputs": [],
   "source": []
  }
 ],
 "metadata": {
  "kernelspec": {
   "display_name": "Python 3",
   "language": "python",
   "name": "python3"
  },
  "language_info": {
   "codemirror_mode": {
    "name": "ipython",
    "version": 3
   },
   "file_extension": ".py",
   "mimetype": "text/x-python",
   "name": "python",
   "nbconvert_exporter": "python",
   "pygments_lexer": "ipython3",
   "version": "3.7.4"
  }
 },
 "nbformat": 4,
 "nbformat_minor": 2
}
