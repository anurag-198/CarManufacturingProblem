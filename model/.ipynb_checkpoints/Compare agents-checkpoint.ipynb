{
 "cells": [
  {
   "cell_type": "code",
   "execution_count": 1,
   "metadata": {},
   "outputs": [
    {
     "data": {
      "text/html": [
       "        <script type=\"text/javascript\">\n",
       "        window.PlotlyConfig = {MathJaxConfig: 'local'};\n",
       "        if (window.MathJax) {MathJax.Hub.Config({SVG: {font: \"STIX-Web\"}});}\n",
       "        if (typeof require !== 'undefined') {\n",
       "        require.undef(\"plotly\");\n",
       "        requirejs.config({\n",
       "            paths: {\n",
       "                'plotly': ['https://cdn.plot.ly/plotly-latest.min']\n",
       "            }\n",
       "        });\n",
       "        require(['plotly'], function(Plotly) {\n",
       "            window._Plotly = Plotly;\n",
       "        });\n",
       "        }\n",
       "        </script>\n",
       "        "
      ]
     },
     "metadata": {},
     "output_type": "display_data"
    }
   ],
   "source": [
    "from torch import nn\n",
    "import torch\n",
    "import torch.nn.functional as F\n",
    "# Project specific inputs\n",
    "from environment import Environment\n",
    "from dgnAgent import Agent\n",
    "from trainer import Trainer\n",
    "import data_creator as dc\n",
    "import os\n",
    "import sys\n",
    "import matplotlib.pyplot as plt\n",
    "import numpy as np\n",
    "import plotly\n",
    "import plotly.graph_objects as go\n",
    "import plotly.express as px\n",
    "plotly.offline.init_notebook_mode(connected=True)\n",
    "from mcts import MCTS\n",
    "import functions as fc\n",
    "import operator\n",
    "import copy\n",
    "from las import Look_ahead_search as Las\n",
    "from collections import deque"
   ]
  },
  {
   "cell_type": "code",
   "execution_count": 2,
   "metadata": {},
   "outputs": [],
   "source": [
    "# Constants\n",
    "KIND_CARS = 8\n",
    "INPUT_SEQUENCE_LENGTH = 100\n",
    "INPUT_WINDOW = 3\n",
    "OUTPUT_SEQUENCE_LENGTH = 5\n",
    "NUM_LINES = 2\n",
    "CAPACITY_LINES = 3\n",
    "\n",
    "\n",
    "# Constants Agent\n",
    "BUFFER_SIZE = int(1e4)  # replay buffer size\n",
    "BATCH_SIZE = 64         # minibatch size\n",
    "GAMMA = 1          # discount factor\n",
    "TAU = 0.001#1e-3              # for soft update of target parameters\n",
    "LR = 5e-4               # learning rate\n",
    "UPDATE_EVERY = 4        # how often to update the network\n",
    "SEED = 0"
   ]
  },
  {
   "cell_type": "code",
   "execution_count": 3,
   "metadata": {},
   "outputs": [],
   "source": [
    "trainer = Trainer('', KIND_CARS, GAMMA)"
   ]
  },
  {
   "cell_type": "code",
   "execution_count": 4,
   "metadata": {},
   "outputs": [],
   "source": [
    "meta_labels = []\n",
    "agents = []\n",
    "labels = []\n",
    "envs = []"
   ]
  },
  {
   "cell_type": "code",
   "execution_count": 5,
   "metadata": {},
   "outputs": [],
   "source": [
    "def add_agents(intermediate_layers, series_name):\n",
    "    current_agents = []\n",
    "    current_labels = []\n",
    "    current_envs = []\n",
    "    # load 64ers\n",
    "    for i in range(1,10):\n",
    "        INPUT_WINDOW = i\n",
    "        # important for network specific stuff\n",
    "        layers = [(INPUT_WINDOW + OUTPUT_SEQUENCE_LENGTH+NUM_LINES*CAPACITY_LINES)*(KIND_CARS+1)] + intermediate_layers + [NUM_LINES]\n",
    "        # create name\n",
    "        name = 'I:' + str(INPUT_WINDOW) + \"_O:\" + str(OUTPUT_SEQUENCE_LENGTH) + \"_N:\"\n",
    "        for layer in layers:\n",
    "            name += str(layer) + \"-\"\n",
    "        name = name[:-1]\n",
    "        name += \"_NL:\" + str(NUM_LINES) + \"_CL:\" + str(CAPACITY_LINES) + \"_W:\" + str(INPUT_SEQUENCE_LENGTH) + \"_KC:\" + str(KIND_CARS)\n",
    "\n",
    "        pathname = fc.get_path() + '/results/'\n",
    "        pathname += name + '/'\n",
    "\n",
    "        for filename in os.listdir(pathname):\n",
    "            if filename[-4:] == '.pth':\n",
    "\n",
    "                net = Network(layers)\n",
    "                net.load_state_dict(torch.load(pathname + filename))\n",
    "                net.eval()\n",
    "                agent = Agent(net, BUFFER_SIZE, BATCH_SIZE, UPDATE_EVERY, GAMMA, TAU, LR, SEED)\n",
    "                env = Environment(INPUT_SEQUENCE_LENGTH, KIND_CARS, NUM_LINES, CAPACITY_LINES, OUTPUT_SEQUENCE_LENGTH, INPUT_WINDOW)\n",
    "                current_labels.append(filename[:-4])\n",
    "                current_agents.append(agent)\n",
    "                current_envs.append(env)\n",
    "        \n",
    "    agents.append(current_agents)\n",
    "    envs.append(current_envs)\n",
    "    labels.append(current_labels)\n",
    "    meta_labels.append(series_name)\n",
    "        "
   ]
  },
  {
   "cell_type": "code",
   "execution_count": null,
   "metadata": {},
   "outputs": [],
   "source": [
    "class Network(nn.Module):\n",
    "    def __init__(self, layer_numbers):\n",
    "        super().__init__()\n",
    "        self.fc1 = nn.Linear(layer_numbers[0], layer_numbers[1])\n",
    "        self.fc2 = nn.Linear(layer_numbers[1], layer_numbers[2])\n",
    "#         self.fc3 = nn.Linear(layer_numbers[2], layer_numbers[3])\n",
    "#         self.fc4 = nn.Linear(layer_numbers[3], layer_numbers[4])\n",
    "#         self.fc5 = nn.Linear(layer_numbers[4], layer_numbers[5])\n",
    "#         self.fc6 = nn.Linear(layer_numbers[5], layer_numbers[6])\n",
    "\n",
    "\n",
    "    def forward(self, x):\n",
    "        x = self.fc1(x)\n",
    "        x = F.relu(x)\n",
    "        x = self.fc2(x)\n",
    "#         x = F.relu(x)\n",
    "#         x = self.fc3(x)\n",
    "#         x = F.relu(x)\n",
    "#         x = self.fc4(x)\n",
    "#         x = F.relu(x)\n",
    "#         x = self.fc5(x)\n",
    "#         x = F.relu(x)\n",
    "#         x = self.fc6(x)\n",
    "        return x\n",
    "\n",
    "\n",
    "add_agents([64], \"64\")\n",
    "add_agents([32], \"32\")"
   ]
  },
  {
   "cell_type": "code",
   "execution_count": 6,
   "metadata": {},
   "outputs": [],
   "source": [
    "class Network(nn.Module):\n",
    "    def __init__(self, layer_numbers):\n",
    "        super().__init__()\n",
    "        self.fc1 = nn.Linear(layer_numbers[0], layer_numbers[1])\n",
    "        self.fc2 = nn.Linear(layer_numbers[1], layer_numbers[2])\n",
    "        self.fc3 = nn.Linear(layer_numbers[2], layer_numbers[3])\n",
    "#         self.fc4 = nn.Linear(layer_numbers[3], layer_numbers[4])\n",
    "#         self.fc5 = nn.Linear(layer_numbers[4], layer_numbers[5])\n",
    "#         self.fc6 = nn.Linear(layer_numbers[5], layer_numbers[6])\n",
    "\n",
    "\n",
    "    def forward(self, x):\n",
    "        x = self.fc1(x)\n",
    "        x = F.relu(x)\n",
    "        x = self.fc2(x)\n",
    "        x = F.relu(x)\n",
    "        x = self.fc3(x)\n",
    "#         x = F.relu(x)\n",
    "#         x = self.fc4(x)\n",
    "#         x = F.relu(x)\n",
    "#         x = self.fc5(x)\n",
    "#         x = F.relu(x)\n",
    "#         x = self.fc6(x)\n",
    "        return x\n",
    "\n",
    "\n",
    "add_agents([64,64], \"64-64\")\n",
    "add_agents([256,256], \"256-256\")\n",
    "# add_agents([32,32], \"32-32\")\n",
    "# add_agents([256,256], \"256-256\")"
   ]
  },
  {
   "cell_type": "code",
   "execution_count": null,
   "metadata": {},
   "outputs": [],
   "source": [
    "class Network(nn.Module):\n",
    "    def __init__(self, layer_numbers):\n",
    "        super().__init__()\n",
    "        self.fc1 = nn.Linear(layer_numbers[0], layer_numbers[1])\n",
    "        self.fc2 = nn.Linear(layer_numbers[1], layer_numbers[2])\n",
    "        self.fc3 = nn.Linear(layer_numbers[2], layer_numbers[3])\n",
    "        self.fc4 = nn.Linear(layer_numbers[3], layer_numbers[4])\n",
    "        self.fc5 = nn.Linear(layer_numbers[4], layer_numbers[5])\n",
    "        self.fc6 = nn.Linear(layer_numbers[5], layer_numbers[6])\n",
    "\n",
    "\n",
    "    def forward(self, x):\n",
    "        x = self.fc1(x)\n",
    "        x = F.relu(x)\n",
    "        x = self.fc2(x)\n",
    "        x = F.relu(x)\n",
    "        x = self.fc3(x)\n",
    "        x = F.relu(x)\n",
    "        x = self.fc4(x)\n",
    "        x = F.relu(x)\n",
    "        x = self.fc5(x)\n",
    "        x = F.relu(x)\n",
    "        x = self.fc6(x)\n",
    "        return x\n",
    "\n",
    "\n",
    "add_agents([64,64,64,64,64], \"64-64-64-64-64\")"
   ]
  },
  {
   "cell_type": "code",
   "execution_count": null,
   "metadata": {},
   "outputs": [],
   "source": [
    "N = 1000\n",
    "L = 100\n",
    "# test_sequences = dc.create_test_sequences('1000-100.test', N, L, KIND_CARS)\n",
    "test_sequences = dc.load_test_sequences('1000-100.test')"
   ]
  },
  {
   "cell_type": "code",
   "execution_count": null,
   "metadata": {},
   "outputs": [],
   "source": [
    "# cut_off = 10\n",
    "results = []"
   ]
  },
  {
   "cell_type": "code",
   "execution_count": null,
   "metadata": {},
   "outputs": [],
   "source": [
    "buffer = np.random.randint(0, KIND_CARS, NUM_LINES * CAPACITY_LINES)\n",
    "output_sequence = np.random.randint(0, KIND_CARS, OUTPUT_SEQUENCE_LENGTH)\n",
    "for i, (agents_series, envs_series, labels_series) in enumerate(zip(agents, envs, labels)):\n",
    "    current_results = []\n",
    "    for  j,(agent, env, label) in enumerate(zip(agents_series, envs_series, labels_series)):\n",
    "        current_results.append(trainer.test_agent(env, agent, test_sequences, 250, 90, buffer = buffer, output_sequence = output_sequence, show_picture=False))\n",
    "        if j == 0:\n",
    "            break\n",
    "    results.append(current_results)\n",
    "    if i == 0:\n",
    "        break"
   ]
  },
  {
   "cell_type": "code",
   "execution_count": null,
   "metadata": {},
   "outputs": [],
   "source": [
    "mc_results = []\n",
    "for i,test_sequence in enumerate(test_sequences):\n",
    "    ret = 0\n",
    "    env = Environment(INPUT_SEQUENCE_LENGTH, KIND_CARS, NUM_LINES, CAPACITY_LINES, OUTPUT_SEQUENCE_LENGTH, INPUT_WINDOW)\n",
    "    state = env.reset(test_sequence, buffer, output_sequence)\n",
    "    done = False\n",
    "    while not done:\n",
    "        mcts = MCTS(env, 100)\n",
    "        act = mcts.execute()\n",
    "        reward, next_state, done = env.step(act)\n",
    "        ret += reward\n",
    "    mc_results.append(ret)\n",
    "    print(str(i) + '/' +str(len(test_sequences)) + \" : \" + str(ret))"
   ]
  },
  {
   "cell_type": "code",
   "execution_count": null,
   "metadata": {},
   "outputs": [],
   "source": [
    "INPUT_WINDOW = 3\n",
    "\n",
    "class Network(nn.Module):\n",
    "    def __init__(self, layer_numbers):\n",
    "        super().__init__()\n",
    "        self.fc1 = nn.Linear(layer_numbers[0], layer_numbers[1])\n",
    "        self.fc2 = nn.Linear(layer_numbers[1], layer_numbers[2])\n",
    "        self.fc3 = nn.Linear(layer_numbers[2], layer_numbers[3])\n",
    "        # self.fc4 = nn.Linear(layer_numbers[3], layer_numbers[4])\n",
    "        # self.fc5 = nn.Linear(layer_numbers[4], layer_numbers[5])\n",
    "\n",
    "\n",
    "    def forward(self, x):\n",
    "        x = self.fc1(x)\n",
    "        x = F.relu(x)\n",
    "        x = self.fc2(x)\n",
    "        x = F.relu(x)\n",
    "        x = self.fc3(x)\n",
    "        # x = F.relu(x)\n",
    "        # x = self.fc4(x)\n",
    "        # x = F.relu(x)\n",
    "        # x = self.fc5(x)\n",
    "        return x\n",
    "\n",
    "\n",
    "mce_results = []\n",
    "for i,test_sequence in enumerate(test_sequences):\n",
    "    ret = 0\n",
    "    env = Environment(INPUT_SEQUENCE_LENGTH, KIND_CARS, NUM_LINES, CAPACITY_LINES, OUTPUT_SEQUENCE_LENGTH, INPUT_WINDOW)\n",
    "    state = env.reset(test_sequence, buffer, output_sequence)\n",
    "    pathname = fc.get_path()\n",
    "    policy = pathname + '/results/I:3_O:5_N:126-64-64-2_NL:2_CL:3_W:100_KC:8/I:3_O:5_N:126-64-64-2_NL:2_CL:3_W:100_KC:8_0.pth'\n",
    "    layers = [(INPUT_WINDOW + OUTPUT_SEQUENCE_LENGTH + NUM_LINES * CAPACITY_LINES) * (KIND_CARS + 1), 64, 64, NUM_LINES]\n",
    "    net = Network(layers)\n",
    "    net.load_state_dict(torch.load(policy))\n",
    "    net.eval()\n",
    "    agent = Agent(net, BUFFER_SIZE, BATCH_SIZE, UPDATE_EVERY, GAMMA, TAU, LR, SEED)\n",
    "    done = False\n",
    "    while not done:\n",
    "        mcts = MCTS(env, agent, KIND_CARS, 100)\n",
    "        act = mcts.execute()\n",
    "        reward, next_state, done = env.step(act)\n",
    "        ret += reward\n",
    "    mc_results.append(ret)\n",
    "    print(str(i) + '/' +str(len(test_sequences)) + \" : \" + str(ret))\n",
    "    if i == 200:\n",
    "        break"
   ]
  },
  {
   "cell_type": "code",
   "execution_count": null,
   "metadata": {},
   "outputs": [],
   "source": [
    "eval_numbers = []\n",
    "for meta_label, labels_series, results_series in zip(meta_labels, labels,  results):\n",
    "    current_eval_numbers = []\n",
    "    for i in range(9):\n",
    "        x  =  np.max([np.sum(results_series[2*i]), np.sum(results_series[2*i+1])])\n",
    "        x  = x * (-1) / (N*L)\n",
    "        current_eval_numbers.append(x)\n",
    "    eval_numbers.append(current_eval_numbers)"
   ]
  },
  {
   "cell_type": "code",
   "execution_count": null,
   "metadata": {},
   "outputs": [],
   "source": [
    "fig = go.Figure()\n",
    "for i, (label, numbers) in enumerate(zip(meta_labels, eval_numbers)):\n",
    "    fig.add_trace(go.Scatter(x=np.linspace(1, len(eval_numbers[0]), len(eval_numbers[0])), y=numbers, mode='lines', name=label))\n",
    "fig.show()"
   ]
  },
  {
   "cell_type": "code",
   "execution_count": null,
   "metadata": {},
   "outputs": [],
   "source": [
    "fig.update_layout(height=600, width=1200, title_text=\"Subplots\")\n",
    "plotly.offline.plot(fig, filename='compare-agents.html')"
   ]
  },
  {
   "cell_type": "code",
   "execution_count": null,
   "metadata": {},
   "outputs": [],
   "source": [
    "# results of 64 64 network \n",
    "fig = go.Figure()\n",
    "for i, (label, res) in enumerate(zip(labels, results)):\n",
    "    fig.add_trace(go.Scatter(x=np.linspace(1, N-cut_off, N), y=results[i][1][cut_off:], mode='lines', name=labels[i]))\n",
    "fig.show()"
   ]
  },
  {
   "cell_type": "code",
   "execution_count": null,
   "metadata": {},
   "outputs": [],
   "source": []
  },
  {
   "cell_type": "code",
   "execution_count": null,
   "metadata": {},
   "outputs": [],
   "source": [
    "bar_results = []\n",
    "high_score_bar_results = []\n",
    "bar_labels = []\n",
    "high_score_bar_labels = []\n",
    "for label, result in zip(labels,results):\n",
    "    x = np.sum(result)*(-1) / (N*L)\n",
    "    if label[-1] == 'e':\n",
    "        high_score_bar_results.append(x)\n",
    "        high_score_bar_labels.append(label)\n",
    "    else:\n",
    "        bar_results.append(x)\n",
    "        bar_labels.append(label)\n",
    "\n",
    "\n",
    "results = []\n",
    "for a,b in zip(bar_results, high_score_bar_results):\n",
    "    results.append(np.max([a,b]))\n",
    "    \n",
    "fig = go.Figure(data=[\n",
    "    go.Bar(name='best', x=bar_labels, y=results),\n",
    "    go.Bar(name='bar_results', x=bar_labels, y=bar_results),\n",
    "    go.Bar(name='high_score_bar_results', x = bar_labels, y=high_score_bar_results),\n",
    "])\n",
    "# Change the bar mode\n",
    "fig.update_layout(barmode='group')\n",
    "fig.show()"
   ]
  },
  {
   "cell_type": "code",
   "execution_count": null,
   "metadata": {},
   "outputs": [],
   "source": [
    "a = [1]\n",
    "b = [2,3]\n",
    "c = [4]\n",
    "a + b + c"
   ]
  },
  {
   "cell_type": "code",
   "execution_count": null,
   "metadata": {},
   "outputs": [],
   "source": [
    "comp_results = []\n",
    "for i in range(201):\n",
    "    comp_results.append(results[0][2][0][i])"
   ]
  },
  {
   "cell_type": "code",
   "execution_count": null,
   "metadata": {},
   "outputs": [],
   "source": [
    "fig = go.Figure()\n",
    "\n",
    "fig.add_trace(go.Scatter(x=np.linspace(1, 200, 200), y=comp_results, mode='markers', name='DQN compare'))\n",
    "fig.add_trace(go.Scatter(x=np.linspace(1, 200, 200), y=mc_results, mode='markers', name='MCTS'))\n",
    "fig.add_trace(go.Scatter(x=np.linspace(1, 200, 200), y=mce_results, mode='markers', name='Expert MCTS'))\n",
    "\n",
    "\n",
    "fig.show()"
   ]
  },
  {
   "cell_type": "code",
   "execution_count": null,
   "metadata": {},
   "outputs": [],
   "source": [
    "dqn_means = []\n",
    "mc_means = []\n",
    "mce_means = []\n",
    "depth_means = []\n",
    "for i in range(201):\n",
    "    if i < 50:\n",
    "        continue\n",
    "    upper = i\n",
    "    under = upper - 50\n",
    "    dqn_means.append(np.mean(comp_results[under:upper]))\n",
    "    mc_means.append(np.mean(mc_results[under:upper]))\n",
    "    mce_means.append(np.mean(mce_results[under:upper]))\n",
    "    depth_means.append(np.mean(depth_results[under:upper]))"
   ]
  },
  {
   "cell_type": "code",
   "execution_count": null,
   "metadata": {},
   "outputs": [],
   "source": [
    "fig = go.Figure()\n",
    "\n",
    "fig.add_trace(go.Scatter(x=np.linspace(1, 151, 151), y=dqn_means, mode='lines', name='DQN compare'))\n",
    "fig.add_trace(go.Scatter(x=np.linspace(1, 151, 151), y=mc_means, mode='lines', name='MCTS'))\n",
    "fig.add_trace(go.Scatter(x=np.linspace(1, 151, 151), y=mce_means, mode='lines', name='Expert MCTS'))\n",
    "\n",
    "\n",
    "fig.show()"
   ]
  },
  {
   "cell_type": "code",
   "execution_count": null,
   "metadata": {},
   "outputs": [],
   "source": [
    "dqn_eval_num = np.mean(comp_results)\n",
    "mc_eval_num = np.mean(mc_results)\n",
    "mce_eval_num = np.mean(mce_results)\n",
    "print(\"DQN\", \"MC\", \"MCE\")\n",
    "print(dqn_eval_num, mc_eval_num, mce_eval_num)"
   ]
  },
  {
   "cell_type": "code",
   "execution_count": null,
   "metadata": {},
   "outputs": [],
   "source": [
    "MAX_DEPTH = 20\n",
    "class Search_node():\n",
    "    def __init__(self, env, value = 0, depth = 1, visited = []):\n",
    "        self.env = env\n",
    "        self.visited = visited\n",
    "        self.value = value\n",
    "        self.done = env.done\n",
    "        self.depth = depth\n",
    "\n",
    "    def explore(self):\n",
    "        res = []\n",
    "        for i in range(NUM_LINES):\n",
    "            child_visited = copy.deepcopy(self.visited)\n",
    "            child_visited.append(i)\n",
    "            child_env, (reward, next_state, done) = self.env.light_step(i)\n",
    "            child = Search_node(child_env, self.value + reward, self.depth+1, child_visited)\n",
    "            res.append(child)\n",
    "            \n",
    "        return res\n",
    "    \n",
    "    def show(self):\n",
    "        print(self.value, self.visited)\n",
    "        \n",
    "    def terminal(self):\n",
    "        return (self.done or self.depth == MAX_DEPTH) \n",
    "\n",
    "def optimal(env):\n",
    "    result = None\n",
    "    root = Search_node(env)\n",
    "    open_list = [root]\n",
    "    while len(open_list) != 0:\n",
    "        actual = open_list.pop()\n",
    "        if actual.terminal():\n",
    "#             print(\"Best result found!\")\n",
    "#             actual.show()\n",
    "            result = actual\n",
    "            break\n",
    "        children = actual.explore()\n",
    "        for child in children:\n",
    "            open_list.append(child)\n",
    "        open_list.sort(key=operator.attrgetter('value'))\n",
    "    \n",
    "    return result.visited[0]"
   ]
  },
  {
   "cell_type": "code",
   "execution_count": null,
   "metadata": {},
   "outputs": [],
   "source": []
  },
  {
   "cell_type": "code",
   "execution_count": null,
   "metadata": {
    "scrolled": true
   },
   "outputs": [],
   "source": [
    "depth_results = []\n",
    "actions = []\n",
    "for i,test_sequence in enumerate(test_sequences):\n",
    "    ret = 0\n",
    "    current_actions = []\n",
    "    env = Environment(    env = Environment(INPUT_SEQUENCE_LENGTH, KIND_CARS, NUM_LINES, CAPACITY_LINES, OUTPUT_SEQUENCE_LENGTH, INPUT_WINDOW)\n",
    "\n",
    "INPUT_SEQUENCE_LENGTH, KIND_CARS, NUM_LINES, CAPACITY_LINES, OUTPUT_SEQUENCE_LENGTH, INPUT_WINDOW)\n",
    "    state = env.reset(test_sequence, buffer, output_sequence)\n",
    "    done = False\n",
    "    while not done:\n",
    "        act = optimal(env)\n",
    "        current_actions.append(act)\n",
    "        reward, next_state, done = env.step(act)\n",
    "        ret += reward\n",
    "    actions.append(current_actions)\n",
    "    depth_results.append(ret)\n",
    "    print(str(i) + '/' +str(len(test_sequences)) + \" : \" + str(ret))\n",
    "    if i == 0:\n",
    "        break"
   ]
  },
  {
   "cell_type": "code",
   "execution_count": null,
   "metadata": {},
   "outputs": [],
   "source": [
    "fig = go.Figure()\n",
    "\n",
    "fig.add_trace(go.Scatter(x=np.linspace(1, 151, 151), y=dqn_means, mode='lines', name='DQN compare'))\n",
    "fig.add_trace(go.Scatter(x=np.linspace(1, 151, 151), y=mc_means, mode='lines', name='MCTS'))\n",
    "fig.add_trace(go.Scatter(x=np.linspace(1, 151, 151), y=mce_means, mode='lines', name='Expert MCTS'))\n",
    "fig.add_trace(go.Scatter(x=np.linspace(1, 151, 151), y=depth_means, mode='lines', name='depth'))\n",
    "\n",
    "\n",
    "\n",
    "fig.show()"
   ]
  },
  {
   "cell_type": "code",
   "execution_count": null,
   "metadata": {},
   "outputs": [],
   "source": []
  },
  {
   "cell_type": "code",
   "execution_count": null,
   "metadata": {},
   "outputs": [],
   "source": [
    "dqn_hand_results = []\n",
    "actions = []\n",
    "for i,test_sequence in enumerate(test_sequences):\n",
    "    ret = 0\n",
    "    current_actions = []\n",
    "    env = Environment(INPUT_SEQUENCE_LENGTH, KIND_CARS, NUM_LINES, CAPACITY_LINES, OUTPUT_SEQUENCE_LENGTH, INPUT_WINDOW)\n",
    "    state = env.reset(test_sequence, buffer, output_sequence)\n",
    "    done = False\n",
    "    while not done:\n",
    "        count += 1\n",
    "        state = fc.linearize([state], KIND_CARS)\n",
    "        act = agent.act(state)\n",
    "        current_actions.append(act)\n",
    "        reward, next_state, done = env.step(act)\n",
    "        ret += reward\n",
    "    actions.append(current_actions)\n",
    "    depth_results.append(ret)\n",
    "    print(str(i) + '/' +str(len(test_sequences)) + \" : \" + str(ret))\n",
    "    if i == 0:\n",
    "        break"
   ]
  },
  {
   "cell_type": "code",
   "execution_count": null,
   "metadata": {},
   "outputs": [],
   "source": [
    "agent = agents[0][4]\n",
    "env = envs[0][4]\n",
    "_, _, ca = trainer.test_agent(env, agent, test_sequences[0:1], 250, 90, buffer = buffer, output_sequence = output_sequence, show_picture=False)"
   ]
  },
  {
   "cell_type": "code",
   "execution_count": null,
   "metadata": {},
   "outputs": [],
   "source": [
    "label = labels[0][6]\n",
    "label"
   ]
  },
  {
   "cell_type": "code",
   "execution_count": null,
   "metadata": {},
   "outputs": [],
   "source": [
    "agent = agents[0][6]\n",
    "env = envs[0][6]\n",
    "buffer = np.random.randint(0, KIND_CARS, NUM_LINES * CAPACITY_LINES)\n",
    "output_sequence = np.random.randint(0, KIND_CARS, OUTPUT_SEQUENCE_LENGTH)"
   ]
  },
  {
   "cell_type": "code",
   "execution_count": null,
   "metadata": {},
   "outputs": [],
   "source": [
    "scores, means, actions = trainer.test_agent(env, agent, test_sequences, 250, 1000, buffer, output_sequence)"
   ]
  },
  {
   "cell_type": "code",
   "execution_count": null,
   "metadata": {},
   "outputs": [],
   "source": [
    "ls = []\n",
    "depth = 2\n",
    "las = Las(depth)\n",
    "car_count = 0\n",
    "sum_ret = 0\n",
    "for i, test_sequence in enumerate(test_sequences):\n",
    "    ret = 0 \n",
    "    done = False\n",
    "    env.reset(test_sequence, buffer, output_sequence)\n",
    "    while not done:\n",
    "        car_count += 1\n",
    "        action = las.act(env)\n",
    "        reward, _, done = env.step(action)\n",
    "        ret += reward \n",
    "#     print(i, ':', ret)\n",
    "    ls.append(ret)\n",
    "    sum_ret += ret\n",
    "relative = sum_ret/len(test_sequences)\n",
    "relative_t = sum_ret/car_count\n",
    "print(\"For Depth \"  + str(depth) , sum_ret, car_count, relative, relative_t)"
   ]
  },
  {
   "cell_type": "code",
   "execution_count": null,
   "metadata": {},
   "outputs": [],
   "source": [
    "la2_means = []\n",
    "scores_window = deque(maxlen=250)\n",
    "for score in ls:\n",
    "    scores_window.append(score)\n",
    "    la2_means.append(np.mean(scores_window))"
   ]
  },
  {
   "cell_type": "code",
   "execution_count": null,
   "metadata": {},
   "outputs": [],
   "source": [
    "fig = go.Figure()\n",
    "length = len(means)\n",
    "fig.add_trace(go.Scatter(x=np.linspace(1, length, length), y=means, mode='markers', name='Learning'))\n",
    "fig.add_trace(go.Scatter(x=np.linspace(1, length, length), y=la_means, mode='markers', name='LA3'))\n",
    "fig.add_trace(go.Scatter(x=np.linspace(1, length, length), y=la2_means, mode='markers', name='LA2'))\n",
    "\n"
   ]
  },
  {
   "cell_type": "code",
   "execution_count": null,
   "metadata": {},
   "outputs": [],
   "source": [
    "np.mean(la_means)"
   ]
  },
  {
   "cell_type": "code",
   "execution_count": null,
   "metadata": {},
   "outputs": [],
   "source": []
  },
  {
   "cell_type": "code",
   "execution_count": null,
   "metadata": {},
   "outputs": [],
   "source": []
  }
 ],
 "metadata": {
  "kernelspec": {
   "display_name": "Python 3",
   "language": "python",
   "name": "python3"
  },
  "language_info": {
   "codemirror_mode": {
    "name": "ipython",
    "version": 3
   },
   "file_extension": ".py",
   "mimetype": "text/x-python",
   "name": "python",
   "nbconvert_exporter": "python",
   "pygments_lexer": "ipython3",
   "version": "3.7.4"
  }
 },
 "nbformat": 4,
 "nbformat_minor": 2
}
