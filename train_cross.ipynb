{
 "cells": [
  {
   "cell_type": "code",
   "execution_count": null,
   "metadata": {},
   "outputs": [
    {
     "data": {
      "image/png": "[encoded data removed]",
      "text/plain": [
       "<Figure size 432x288 with 1 Axes>"
      ]
     },
     "metadata": {
      "needs_background": "light"
     },
     "output_type": "display_data"
    },
    {
     "name": "stdout",
     "output_type": "stream",
     "text": [
      "\r",
      "Episode 28750\tAverage Score: -176.14\tBest Score: -160.51\n"
     ]
    },
    {
     "name": "stderr",
     "output_type": "stream",
     "text": [
      "/home/shadowwalker/anaconda3/envs/RIL/lib/python3.7/site-packages/torch/tensor.py:293: UserWarning: non-inplace resize is deprecated\n",
      "  warnings.warn(\"non-inplace resize is deprecated\")\n"
     ]
    }
   ],
   "source": [
    "from torch import nn\n",
    "import torch.nn.functional as F\n",
    "import sys\n",
    "sys.path.append(\"../\")\n",
    "sys.path.append(\"../model\")\n",
    "from environment import Environment\n",
    "from dgnAgent import Agent\n",
    "from trainer import Trainer\n",
    "from wrapper import MultiAgentWrapper as MAW\n",
    "from wrapper import SingleAgentWrapper as SAW\n",
    "from wrapper import CrossProductWrapper as CPW\n",
    "import functions as fc\n",
    "# Constants\n",
    "KIND_CARS = 8\n",
    "INPUT_SEQUENCE_LENGTH = 100\n",
    "INPUT_WINDOW = 3\n",
    "OUTPUT_SEQUENCE_LENGTH = 4\n",
    "NUM_LINES = 4\n",
    "CAPACITY_LINES = 3\n",
    "\n",
    "\n",
    "# Constants Agent\n",
    "BUFFER_SIZE = int(1e7)  # replay buffer size\n",
    "BATCH_SIZE = 64         # minibatch size\n",
    "GAMMA = 1          # discount factor\n",
    "TAU = 0.001#1e-3              # for soft update of target parameters\n",
    "LR = 5e-4               # learning rate\n",
    "UPDATE_EVERY = 4        # how often to update the network\n",
    "SEED = 0\n",
    "\n",
    "initial_ratio = 0.6\n",
    "\n",
    "# define neural network\n",
    "class Network(nn.Module):\n",
    "    def __init__(self, layer_numbers):\n",
    "        super().__init__()\n",
    "        self.fc1 = nn.Linear(layer_numbers[0], layer_numbers[1])\n",
    "        self.fc2 = nn.Linear(layer_numbers[1], layer_numbers[2])\n",
    "        self.fc3 = nn.Linear(layer_numbers[2], layer_numbers[3])\n",
    "        self.fc4 = nn.Linear(layer_numbers[3], layer_numbers[4])\n",
    "        self.fc5 = nn.Linear(layer_numbers[4], layer_numbers[5])\n",
    "        # self.fc6 = nn.Linear(layer_numbers[5], layer_numbers[6])\n",
    "\n",
    "\n",
    "    def forward(self, x):\n",
    "        x = self.fc1(x)\n",
    "        x = F.relu(x)\n",
    "        x = self.fc2(x)\n",
    "        x = F.relu(x)\n",
    "        x = self.fc3(x)\n",
    "        x = F.relu(x)\n",
    "        x = self.fc4(x)\n",
    "        x = F.relu(x)\n",
    "        x = self.fc5(x)\n",
    "        # x = F.relu(x)\n",
    "        # x = self.fc6(x)   \n",
    "        return x\n",
    "\n",
    "\n",
    "\n",
    "\n",
    "#don't change this!\n",
    "for i in [7]:\n",
    "    INPUT_WINDOW = i\n",
    "    # important for network specific stuff\n",
    "    layers = [(INPUT_WINDOW + OUTPUT_SEQUENCE_LENGTH+NUM_LINES*CAPACITY_LINES)*(KIND_CARS+1),128,128,128,128,NUM_LINES*NUM_LINES]\n",
    "    net = Network(layers)\n",
    "    # create name\n",
    "    name = 'CP_I:' + str(INPUT_WINDOW) + \"_O:\" + str(OUTPUT_SEQUENCE_LENGTH) + \"_N:\"\n",
    "    for layer in layers:\n",
    "       name += str(layer) + \"-\"\n",
    "    name = name[:-1]\n",
    "    name += \"_NL:\" + str(NUM_LINES) + \"_CL:\" + str(CAPACITY_LINES) + \"_W:\" + str(INPUT_SEQUENCE_LENGTH) + \"_KC:\" + str(KIND_CARS)\n",
    "    # initialize training\n",
    "\n",
    "\n",
    "    env = Environment(INPUT_SEQUENCE_LENGTH, KIND_CARS, NUM_LINES, CAPACITY_LINES, OUTPUT_SEQUENCE_LENGTH, INPUT_WINDOW, initial_ratio = initial_ratio)\n",
    "    cpw = CPW(env)\n",
    "    agent = Agent(net, BUFFER_SIZE, BATCH_SIZE, UPDATE_EVERY, GAMMA, TAU, LR, SEED)\n",
    "    trainer = Trainer(name, KIND_CARS, GAMMA)\n",
    "    # train and return scores. agent will be trained afterwards\n",
    "    scores = trainer.train(cpw, agent, 250, n_episodes=30000, eps_start=1.0, eps_end=0.001, eps_decay=0.9998, show_picture= True, valid_actions_only = False)\n",
    "\n"
   ]
  },
  {
   "cell_type": "code",
   "execution_count": null,
   "metadata": {},
   "outputs": [],
   "source": []
  }
 ],
 "metadata": {
  "kernelspec": {
   "display_name": "Python 3",
   "language": "python",
   "name": "python3"
  },
  "language_info": {
   "codemirror_mode": {
    "name": "ipython",
    "version": 3
   },
   "file_extension": ".py",
   "mimetype": "text/x-python",
   "name": "python",
   "nbconvert_exporter": "python",
   "pygments_lexer": "ipython3",
   "version": "3.7.7"
  }
 },
 "nbformat": 4,
 "nbformat_minor": 4
}
